{
 "cells": [
  {
   "cell_type": "code",
   "execution_count": 3,
   "id": "b2d03746",
   "metadata": {},
   "outputs": [],
   "source": [
    "import sys\n",
    "sys.path.insert(0, '../')"
   ]
  },
  {
   "cell_type": "code",
   "execution_count": 5,
   "id": "cdc1a126",
   "metadata": {},
   "outputs": [
    {
     "ename": "ModuleNotFoundError",
     "evalue": "No module named 'scipy'",
     "output_type": "error",
     "traceback": [
      "\u001b[0;31m---------------------------------------------------------------------------\u001b[0m",
      "\u001b[0;31mModuleNotFoundError\u001b[0m                       Traceback (most recent call last)",
      "Cell \u001b[0;32mIn[5], line 1\u001b[0m\n\u001b[0;32m----> 1\u001b[0m \u001b[38;5;28;01mfrom\u001b[39;00m \u001b[38;5;21;01mcorset\u001b[39;00m\u001b[38;5;21;01m.\u001b[39;00m\u001b[38;5;21;01mdata\u001b[39;00m \u001b[38;5;28;01mimport\u001b[39;00m Dataset\n\u001b[1;32m      2\u001b[0m \u001b[38;5;28;01mfrom\u001b[39;00m \u001b[38;5;21;01mcorset\u001b[39;00m\u001b[38;5;21;01m.\u001b[39;00m\u001b[38;5;21;01mgreedy\u001b[39;00m \u001b[38;5;28;01mimport\u001b[39;00m GreedyCFTPDivMax\n\u001b[1;32m      3\u001b[0m \u001b[38;5;28;01mfrom\u001b[39;00m \u001b[38;5;21;01mcorset\u001b[39;00m\u001b[38;5;21;01m.\u001b[39;00m\u001b[38;5;21;01mevaluation\u001b[39;00m \u001b[38;5;28;01mimport\u001b[39;00m Evaluator\n",
      "File \u001b[0;32m~/Desktop/M11307320/Data_MIning/CORSET-main/CORSET-main/notebooks/../corset/data.py:2\u001b[0m\n\u001b[1;32m      1\u001b[0m \u001b[38;5;28;01mimport\u001b[39;00m \u001b[38;5;21;01mnumpy\u001b[39;00m \u001b[38;5;28;01mas\u001b[39;00m \u001b[38;5;21;01mnp\u001b[39;00m\n\u001b[0;32m----> 2\u001b[0m \u001b[38;5;28;01mfrom\u001b[39;00m \u001b[38;5;21;01mscipy\u001b[39;00m \u001b[38;5;28;01mimport\u001b[39;00m sparse \u001b[38;5;28;01mas\u001b[39;00m sp\n\u001b[1;32m      3\u001b[0m \u001b[38;5;28;01mfrom\u001b[39;00m \u001b[38;5;21;01mmlrl\u001b[39;00m\u001b[38;5;21;01m.\u001b[39;00m\u001b[38;5;21;01mtestbed\u001b[39;00m \u001b[38;5;28;01mimport\u001b[39;00m data\n\u001b[1;32m      4\u001b[0m \u001b[38;5;28;01mfrom\u001b[39;00m \u001b[38;5;21;01msklearn\u001b[39;00m\u001b[38;5;21;01m.\u001b[39;00m\u001b[38;5;21;01mmodel_selection\u001b[39;00m \u001b[38;5;28;01mimport\u001b[39;00m train_test_split\n",
      "\u001b[0;31mModuleNotFoundError\u001b[0m: No module named 'scipy'"
     ]
    }
   ],
   "source": [
    "from corset.data import Dataset\n",
    "from corset.greedy import GreedyCFTPDivMax\n",
    "from corset.evaluation import Evaluator"
   ]
  },
  {
   "cell_type": "code",
   "execution_count": null,
   "id": "90e5a177",
   "metadata": {},
   "outputs": [],
   "source": [
    "ds = Dataset(name='medical', datadir=\"../data\", split_train=False)\n",
    "ds.load()"
   ]
  },
  {
   "cell_type": "code",
   "execution_count": null,
   "id": "4ab9bd87",
   "metadata": {},
   "outputs": [],
   "source": [
    "clf = GreedyCFTPDivMax(\n",
    "    min_feature_proba=.8,\n",
    "    min_label_proba=.8,\n",
    "    n_tails_per_iter=100,\n",
    "    n_heads_per_tail=10,\n",
    "    lambd=10.0,\n",
    "    n_max_rules=30\n",
    ")"
   ]
  },
  {
   "cell_type": "code",
   "execution_count": null,
   "id": "ba10468f",
   "metadata": {
    "scrolled": false
   },
   "outputs": [],
   "source": [
    "clf.fit(ds.trn_X, ds.trn_Y)"
   ]
  },
  {
   "cell_type": "code",
   "execution_count": null,
   "id": "7e4f0055",
   "metadata": {},
   "outputs": [],
   "source": [
    "pred_Y = clf.predict(ds.tst_X)\n",
    "evaluator = Evaluator()\n",
    "perf = evaluator.report(pred_Y, ds.tst_Y)"
   ]
  },
  {
   "cell_type": "code",
   "execution_count": null,
   "id": "0644417d",
   "metadata": {},
   "outputs": [],
   "source": [
    "print(perf)"
   ]
  },
  {
   "cell_type": "code",
   "execution_count": null,
   "id": "a395bde4",
   "metadata": {},
   "outputs": [],
   "source": [
    "for k, v in perf.items():\n",
    "    print(f'{k}: {v:.2f}')"
   ]
  }
 ],
 "metadata": {
  "kernelspec": {
   "display_name": "lin",
   "language": "python",
   "name": "python3"
  },
  "language_info": {
   "codemirror_mode": {
    "name": "ipython",
    "version": 3
   },
   "file_extension": ".py",
   "mimetype": "text/x-python",
   "name": "python",
   "nbconvert_exporter": "python",
   "pygments_lexer": "ipython3",
   "version": "3.8.18"
  }
 },
 "nbformat": 4,
 "nbformat_minor": 5
}
